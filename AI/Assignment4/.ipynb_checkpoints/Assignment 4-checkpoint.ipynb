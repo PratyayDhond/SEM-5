{
 "cells": [
  {
   "cell_type": "markdown",
   "id": "446d89b5",
   "metadata": {},
   "source": [
    "### Assignment 4"
   ]
  },
  {
   "cell_type": "markdown",
   "id": "e283d9fe",
   "metadata": {},
   "source": [
    "##### BFS - Breadth First Search and DFS - Depth First Search"
   ]
  },
  {
   "cell_type": "code",
   "execution_count": 19,
   "id": "d22033c5",
   "metadata": {},
   "outputs": [],
   "source": [
    "from collections import deque\n",
    "\n",
    "def bfs(graph, start):\n",
    "    visited = set()         \n",
    "    queue = deque([start])  \n",
    "    \n",
    "    while queue:\n",
    "        node = queue.popleft()\n",
    "        if node not in visited:\n",
    "            print(node,end=' -> ')         \n",
    "            visited.add(node)   \n",
    "            \n",
    "            for neighbor in graph[node]:\n",
    "                if neighbor not in visited:\n",
    "                    queue.append(neighbor)\n",
    "    print('NULL')\n",
    "    \n",
    "def dfs(graph, currentNode, visited=set()):\n",
    "    if currentNode not in visited:\n",
    "        print(currentNode, end=' -> ')\n",
    "        visited.add(currentNode)\n",
    "        for node in graph[currentNode]:\n",
    "            dfs(graph,node,visited)\n"
   ]
  },
  {
   "cell_type": "code",
   "execution_count": 20,
   "id": "36f87249",
   "metadata": {},
   "outputs": [],
   "source": [
    "# Input\n",
    "# The input example is the graph from T1 test of AI\n",
    "# The nodes are taken in the anti-clockwise direction from 9 o'Clock\n",
    "graph = {\n",
    "    'A': ['F', 'E', 'B'],\n",
    "    'B': ['E', 'D', 'C', 'A'],\n",
    "    'C': ['D', 'B'],\n",
    "    'D': ['H', 'G', 'C', 'B', 'E'],\n",
    "    'E': ['H', 'D', 'B', 'A'],\n",
    "    'F': ['H', 'A'],\n",
    "    'G': ['D', 'H'],\n",
    "    'H': ['G', 'D', 'E', 'F']\n",
    "}\n",
    "\n",
    "start_node = 'A'\n"
   ]
  },
  {
   "cell_type": "code",
   "execution_count": 15,
   "id": "6959aea2",
   "metadata": {},
   "outputs": [
    {
     "name": "stdout",
     "output_type": "stream",
     "text": [
      "A -> F -> E -> B -> H -> D -> C -> G -> NULL\n"
     ]
    }
   ],
   "source": [
    "### BFS Execution\n",
    "\n",
    "bfs(graph, start_node)"
   ]
  },
  {
   "cell_type": "code",
   "execution_count": 21,
   "id": "1aca3572",
   "metadata": {},
   "outputs": [
    {
     "name": "stdout",
     "output_type": "stream",
     "text": [
      "A -> F -> H -> G -> D -> C -> B -> E -> "
     ]
    }
   ],
   "source": [
    "### DFS Execution\n",
    "dfs(graph,start_node)"
   ]
  },
  {
   "cell_type": "code",
   "execution_count": null,
   "id": "3cc3813e",
   "metadata": {},
   "outputs": [],
   "source": []
  }
 ],
 "metadata": {
  "kernelspec": {
   "display_name": "Python 3 (ipykernel)",
   "language": "python",
   "name": "python3"
  },
  "language_info": {
   "codemirror_mode": {
    "name": "ipython",
    "version": 3
   },
   "file_extension": ".py",
   "mimetype": "text/x-python",
   "name": "python",
   "nbconvert_exporter": "python",
   "pygments_lexer": "ipython3",
   "version": "3.10.12"
  }
 },
 "nbformat": 4,
 "nbformat_minor": 5
}
